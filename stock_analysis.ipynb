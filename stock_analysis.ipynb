{
 "cells": [
  {
   "cell_type": "markdown",
   "id": "936b35f1",
   "metadata": {},
   "source": [
    "# Stock Market Data Analysis\n",
    "\n",
    "This notebook processes, cleans, and visualizes historical stock market data.\n",
    "It generates summary statistics, plots, and interactive visualizations."
   ]
  },
  {
   "cell_type": "markdown",
   "id": "13b1e79b",
   "metadata": {},
   "source": [
    "1. Import Libraries"
   ]
  },
  {
   "cell_type": "code",
   "execution_count": 1,
   "id": "5e8fc437",
   "metadata": {},
   "outputs": [],
   "source": [
    "import pandas as pd\n",
    "import matplotlib.pyplot as plt\n",
    "import plotly.express as px"
   ]
  },
  {
   "cell_type": "markdown",
   "id": "22c54b4a",
   "metadata": {},
   "source": [
    "2. Confugration"
   ]
  },
  {
   "cell_type": "code",
   "execution_count": 2,
   "id": "f9911d40",
   "metadata": {},
   "outputs": [],
   "source": [
    "CSV_FILE        = \"combined_stock_data.csv\"\n",
    "START_DATE      = \"2019-01-01\"\n",
    "END_DATE        = \"2021-12-31\"\n",
    "SUMMARY_FILE    = \"summary_stats_filtered.csv\""
   ]
  },
  {
   "cell_type": "markdown",
   "id": "46e7e688",
   "metadata": {},
   "source": [
    "3. Define Functions"
   ]
  },
  {
   "cell_type": "code",
   "execution_count": 3,
   "id": "1bcaeae7",
   "metadata": {},
   "outputs": [],
   "source": [
    "def remove_outliers_iqr(df: pd.DataFrame, column: str) -> pd.DataFrame:\n",
    "    \"\"\"Remove outliers from a given column using the IQR method.\"\"\"\n",
    "    q1 = df[column].quantile(0.25)\n",
    "    q3 = df[column].quantile(0.75)\n",
    "    iqr = q3 - q1\n",
    "    lower_bound = q1 - 1.5 * iqr\n",
    "    upper_bound = q3 + 1.5 * iqr\n",
    "    return df[(df[column] >= lower_bound) & (df[column] <= upper_bound)]\n",
    "\n",
    "def save_plot(fig, filename: str):\n",
    "    \"\"\"Save and close a Matplotlib figure.\"\"\"\n",
    "    fig.savefig(filename)\n",
    "    plt.close(fig)\n"
   ]
  },
  {
   "cell_type": "markdown",
   "id": "2189ddd8",
   "metadata": {},
   "source": [
    "4. Load and Clean"
   ]
  },
  {
   "cell_type": "code",
   "execution_count": 4,
   "id": "0ed75a80",
   "metadata": {},
   "outputs": [
    {
     "data": {
      "text/html": [
       "<div>\n",
       "<style scoped>\n",
       "    .dataframe tbody tr th:only-of-type {\n",
       "        vertical-align: middle;\n",
       "    }\n",
       "\n",
       "    .dataframe tbody tr th {\n",
       "        vertical-align: top;\n",
       "    }\n",
       "\n",
       "    .dataframe thead th {\n",
       "        text-align: right;\n",
       "    }\n",
       "</style>\n",
       "<table border=\"1\" class=\"dataframe\">\n",
       "  <thead>\n",
       "    <tr style=\"text-align: right;\">\n",
       "      <th></th>\n",
       "      <th>Date</th>\n",
       "      <th>Open</th>\n",
       "      <th>High</th>\n",
       "      <th>Low</th>\n",
       "      <th>Close</th>\n",
       "      <th>Adj Close</th>\n",
       "      <th>Volume</th>\n",
       "      <th>Company</th>\n",
       "    </tr>\n",
       "  </thead>\n",
       "  <tbody>\n",
       "    <tr>\n",
       "      <th>6597</th>\n",
       "      <td>2019-01-02</td>\n",
       "      <td>32.110001</td>\n",
       "      <td>33.470001</td>\n",
       "      <td>32.110001</td>\n",
       "      <td>33.450001</td>\n",
       "      <td>33.355457</td>\n",
       "      <td>78900</td>\n",
       "      <td>ABTX</td>\n",
       "    </tr>\n",
       "    <tr>\n",
       "      <th>3644</th>\n",
       "      <td>2019-01-02</td>\n",
       "      <td>39.689999</td>\n",
       "      <td>39.689999</td>\n",
       "      <td>38.939999</td>\n",
       "      <td>39.299999</td>\n",
       "      <td>38.048210</td>\n",
       "      <td>235000</td>\n",
       "      <td>AAT</td>\n",
       "    </tr>\n",
       "    <tr>\n",
       "      <th>1325</th>\n",
       "      <td>2019-01-02</td>\n",
       "      <td>15.000000</td>\n",
       "      <td>16.290001</td>\n",
       "      <td>14.850000</td>\n",
       "      <td>15.880000</td>\n",
       "      <td>15.880000</td>\n",
       "      <td>478300</td>\n",
       "      <td>AAOI</td>\n",
       "    </tr>\n",
       "    <tr>\n",
       "      <th>6598</th>\n",
       "      <td>2019-01-03</td>\n",
       "      <td>33.380001</td>\n",
       "      <td>33.840000</td>\n",
       "      <td>33.060001</td>\n",
       "      <td>33.549999</td>\n",
       "      <td>33.455173</td>\n",
       "      <td>62800</td>\n",
       "      <td>ABTX</td>\n",
       "    </tr>\n",
       "    <tr>\n",
       "      <th>1326</th>\n",
       "      <td>2019-01-03</td>\n",
       "      <td>15.510000</td>\n",
       "      <td>15.800000</td>\n",
       "      <td>15.015000</td>\n",
       "      <td>15.060000</td>\n",
       "      <td>15.060000</td>\n",
       "      <td>398400</td>\n",
       "      <td>AAOI</td>\n",
       "    </tr>\n",
       "  </tbody>\n",
       "</table>\n",
       "</div>"
      ],
      "text/plain": [
       "           Date       Open       High        Low      Close  Adj Close  \\\n",
       "6597 2019-01-02  32.110001  33.470001  32.110001  33.450001  33.355457   \n",
       "3644 2019-01-02  39.689999  39.689999  38.939999  39.299999  38.048210   \n",
       "1325 2019-01-02  15.000000  16.290001  14.850000  15.880000  15.880000   \n",
       "6598 2019-01-03  33.380001  33.840000  33.060001  33.549999  33.455173   \n",
       "1326 2019-01-03  15.510000  15.800000  15.015000  15.060000  15.060000   \n",
       "\n",
       "      Volume Company  \n",
       "6597   78900    ABTX  \n",
       "3644  235000     AAT  \n",
       "1325  478300    AAOI  \n",
       "6598   62800    ABTX  \n",
       "1326  398400    AAOI  "
      ]
     },
     "execution_count": 4,
     "metadata": {},
     "output_type": "execute_result"
    }
   ],
   "source": [
    "# Load & validate data\n",
    "file_path = CSV_FILE\n",
    "try:\n",
    "    df = pd.read_csv(file_path, parse_dates=['Date'])\n",
    "except FileNotFoundError:\n",
    "    raise SystemExit('Error: File not found. Please check the path.')\n",
    "except pd.errors.ParserError:\n",
    "    raise SystemExit('Error: File format invalid or corrupted.')\n",
    "except Exception as err:\n",
    "    raise SystemExit(f'Unexpected error loading data: {err}')\n",
    "stock_data = df\n",
    "df = stock_data\n",
    "required = {'Date', 'Company', 'Close', 'Volume'}\n",
    "\n",
    "if not required.issubset(df.columns):\n",
    "    missing = required - set(df.columns)\n",
    "    raise SystemExit(f'Error: Missing columns: {missing}')\n",
    "\n",
    "# Basic cleaning\n",
    "stock_data.dropna(inplace=True)\n",
    "stock_data.sort_values(by=\"Date\", inplace=True)\n",
    "\n",
    "# Remove outliers properly\n",
    "stock_data = remove_outliers_iqr(stock_data, \"Volume\")\n",
    "stock_data = remove_outliers_iqr(stock_data, \"Close\")\n",
    "\n",
    "# Filter date range\n",
    "df = stock_data\n",
    "start = START_DATE\n",
    "end = END_DATE\n",
    "\n",
    "start_dt, end_dt = (pd.to_datetime(start), pd.to_datetime(end))\n",
    "if start_dt > end_dt:\n",
    "    raise SystemExit('Error: Start date is after end date.')\n",
    "stock_data = df[(df['Date'] >= start_dt) & (df['Date'] <= end_dt)].copy()\n",
    "\n",
    "# Show first rows after cleaning\n",
    "stock_data.head()\n"
   ]
  },
  {
   "cell_type": "markdown",
   "id": "aeebfcbd",
   "metadata": {},
   "source": [
    "5. Quick Overview"
   ]
  },
  {
   "cell_type": "code",
   "execution_count": 5,
   "id": "9b8e0b4f",
   "metadata": {},
   "outputs": [
    {
     "data": {
      "text/html": [
       "<div>\n",
       "<style scoped>\n",
       "    .dataframe tbody tr th:only-of-type {\n",
       "        vertical-align: middle;\n",
       "    }\n",
       "\n",
       "    .dataframe tbody tr th {\n",
       "        vertical-align: top;\n",
       "    }\n",
       "\n",
       "    .dataframe thead th {\n",
       "        text-align: right;\n",
       "    }\n",
       "</style>\n",
       "<table border=\"1\" class=\"dataframe\">\n",
       "  <thead>\n",
       "    <tr style=\"text-align: right;\">\n",
       "      <th></th>\n",
       "      <th>mean</th>\n",
       "      <th>median</th>\n",
       "      <th>max</th>\n",
       "      <th>min</th>\n",
       "      <th>std</th>\n",
       "    </tr>\n",
       "    <tr>\n",
       "      <th>Company</th>\n",
       "      <th></th>\n",
       "      <th></th>\n",
       "      <th></th>\n",
       "      <th></th>\n",
       "      <th></th>\n",
       "    </tr>\n",
       "  </thead>\n",
       "  <tbody>\n",
       "    <tr>\n",
       "      <th>AAOI</th>\n",
       "      <td>11.362349</td>\n",
       "      <td>10.935000</td>\n",
       "      <td>17.790001</td>\n",
       "      <td>5.50</td>\n",
       "      <td>2.463865</td>\n",
       "    </tr>\n",
       "    <tr>\n",
       "      <th>AAT</th>\n",
       "      <td>44.627524</td>\n",
       "      <td>46.119999</td>\n",
       "      <td>48.959999</td>\n",
       "      <td>21.77</td>\n",
       "      <td>4.945657</td>\n",
       "    </tr>\n",
       "    <tr>\n",
       "      <th>ABBV</th>\n",
       "      <td>72.973889</td>\n",
       "      <td>74.389999</td>\n",
       "      <td>78.169998</td>\n",
       "      <td>62.98</td>\n",
       "      <td>4.689739</td>\n",
       "    </tr>\n",
       "    <tr>\n",
       "      <th>ABTX</th>\n",
       "      <td>34.496000</td>\n",
       "      <td>35.090000</td>\n",
       "      <td>38.799999</td>\n",
       "      <td>22.24</td>\n",
       "      <td>3.056954</td>\n",
       "    </tr>\n",
       "  </tbody>\n",
       "</table>\n",
       "</div>"
      ],
      "text/plain": [
       "              mean     median        max    min       std\n",
       "Company                                                  \n",
       "AAOI     11.362349  10.935000  17.790001   5.50  2.463865\n",
       "AAT      44.627524  46.119999  48.959999  21.77  4.945657\n",
       "ABBV     72.973889  74.389999  78.169998  62.98  4.689739\n",
       "ABTX     34.496000  35.090000  38.799999  22.24  3.056954"
      ]
     },
     "execution_count": 5,
     "metadata": {},
     "output_type": "execute_result"
    }
   ],
   "source": [
    "stock_data[\"Daily_Change\"] = stock_data.groupby(\"Company\")[\"Close\"].pct_change() * 100\n",
    "summary_stats = stock_data.groupby(\"Company\")[\"Close\"].agg(\n",
    "    mean=\"mean\", median=\"median\", max=\"max\", min=\"min\", std=\"std\"\n",
    ")\n",
    "summary_stats.to_csv(SUMMARY_FILE)\n",
    "summary_stats"
   ]
  },
  {
   "cell_type": "markdown",
   "id": "c6c39a25",
   "metadata": {},
   "source": [
    "6. Visualizations"
   ]
  },
  {
   "cell_type": "code",
   "execution_count": 6,
   "id": "7d24d925",
   "metadata": {},
   "outputs": [],
   "source": [
    "# Line plot: Closing price over time\n",
    "fig, ax = plt.subplots(figsize=(14, 7))\n",
    "for company in stock_data[\"Company\"].unique():\n",
    "    subset = stock_data[stock_data[\"Company\"] == company]\n",
    "    ax.plot(subset[\"Date\"], subset[\"Close\"], label=company)\n",
    "ax.set_title(\"Closing Prices Over Time\")\n",
    "ax.set_xlabel(\"Date\")\n",
    "ax.set_ylabel(\"Close Price (USD)\")\n",
    "ax.legend()\n",
    "save_plot(fig, \"line_plot.png\")\n",
    "\n",
    "# Histogram: Daily % change\n",
    "fig, ax = plt.subplots(figsize=(14, 7))\n",
    "ax.hist(stock_data[\"Daily_Change\"].dropna(), edgecolor=\"black\")\n",
    "ax.set_title(\"Distribution of Daily Changes\")\n",
    "ax.set_xlabel(\"Change (%)\")\n",
    "save_plot(fig, \"histogram.png\")\n",
    "\n",
    "# Scatter plot: Volume vs Close with size representing % change\n",
    "fig, ax = plt.subplots(figsize=(14, 7))\n",
    "for company in stock_data[\"Company\"].unique():\n",
    "    subset = stock_data[stock_data[\"Company\"] == company]\n",
    "    ax.scatter(\n",
    "        subset[\"Volume\"],\n",
    "        subset[\"Close\"],\n",
    "        s=subset[\"Daily_Change\"].abs().fillna(0) * 5,  \n",
    "        alpha=0.5,\n",
    "        label=company\n",
    "    )\n",
    "ax.set_title(\"Volume vs. Close Price (Bubble size = % Change)\")\n",
    "ax.set_xlabel(\"Volume (shares)\")\n",
    "ax.set_ylabel(\"Close Price (USD)\")\n",
    "ax.legend()\n",
    "save_plot(fig, \"scatter_plot.png\")\n",
    "\n",
    "# Interactive plot: Closing price trends\n",
    "fig_px = px.line(\n",
    "    stock_data, x=\"Date\", y=\"Close\", color=\"Company\",\n",
    "    title=\"Interactive Trend of Closing Price\"\n",
    ")\n",
    "fig_px.write_html(\"interactive_plot.html\")\n"
   ]
  },
  {
   "cell_type": "code",
   "execution_count": 7,
   "id": "3180340f",
   "metadata": {},
   "outputs": [
    {
     "name": "stdout",
     "output_type": "stream",
     "text": [
      "Analysis complete. Results saved in current directory.\n"
     ]
    }
   ],
   "source": [
    "print(\"Analysis complete. Results saved in current directory.\")\n"
   ]
  }
 ],
 "metadata": {
  "kernelspec": {
   "display_name": "Python 3",
   "language": "python",
   "name": "python3"
  },
  "language_info": {
   "codemirror_mode": {
    "name": "ipython",
    "version": 3
   },
   "file_extension": ".py",
   "mimetype": "text/x-python",
   "name": "python",
   "nbconvert_exporter": "python",
   "pygments_lexer": "ipython3",
   "version": "3.13.1"
  }
 },
 "nbformat": 4,
 "nbformat_minor": 5
}
